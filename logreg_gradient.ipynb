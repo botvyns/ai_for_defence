{
  "metadata": {
    "kernelspec": {
      "display_name": "Python 3",
      "name": "python3"
    },
    "language_info": {
      "name": "python",
      "version": "3.10.13",
      "mimetype": "text/x-python",
      "codemirror_mode": {
        "name": "ipython",
        "version": 3
      },
      "pygments_lexer": "ipython3",
      "nbconvert_exporter": "python",
      "file_extension": ".py"
    },
    "kaggle": {
      "accelerator": "none",
      "dataSources": [
        {
          "sourceId": 82126,
          "databundleVersionId": 8962580,
          "sourceType": "competition"
        }
      ],
      "dockerImageVersionId": 30732,
      "isInternetEnabled": true,
      "language": "python",
      "sourceType": "notebook",
      "isGpuEnabled": false
    },
    "colab": {
      "provenance": [],
      "gpuType": "T4"
    },
    "accelerator": "GPU"
  },
  "nbformat_minor": 0,
  "nbformat": 4,
  "cells": [
    {
      "source": [
        "\n",
        "# IMPORTANT: RUN THIS CELL IN ORDER TO IMPORT YOUR KAGGLE DATA SOURCES\n",
        "# TO THE CORRECT LOCATION (/kaggle/input) IN YOUR NOTEBOOK,\n",
        "# THEN FEEL FREE TO DELETE THIS CELL.\n",
        "# NOTE: THIS NOTEBOOK ENVIRONMENT DIFFERS FROM KAGGLE'S PYTHON\n",
        "# ENVIRONMENT SO THERE MAY BE MISSING LIBRARIES USED BY YOUR\n",
        "# NOTEBOOK.\n",
        "\n",
        "import os\n",
        "import sys\n",
        "from tempfile import NamedTemporaryFile\n",
        "from urllib.request import urlopen\n",
        "from urllib.parse import unquote, urlparse\n",
        "from urllib.error import HTTPError\n",
        "from zipfile import ZipFile\n",
        "import tarfile\n",
        "import shutil\n",
        "\n",
        "CHUNK_SIZE = 40960\n",
        "DATA_SOURCE_MAPPING = 'ai-defence-summer-school-2024:https%3A%2F%2Fstorage.googleapis.com%2Fkaggle-competitions-data%2Fkaggle-v2%2F82126%2F8962580%2Fbundle%2Farchive.zip%3FX-Goog-Algorithm%3DGOOG4-RSA-SHA256%26X-Goog-Credential%3Dgcp-kaggle-com%2540kaggle-161607.iam.gserviceaccount.com%252F20240628%252Fauto%252Fstorage%252Fgoog4_request%26X-Goog-Date%3D20240628T092926Z%26X-Goog-Expires%3D259200%26X-Goog-SignedHeaders%3Dhost%26X-Goog-Signature%3D91f65fdcee2007b2d56694a853c9c79b8797cff46ad62f2ca8900aff20982b867377fafc18d2f370f5800df1acf6dc2f3c709bea8cd4a5cb597ef69aba98f8079c1de80d36c9dce2a1b781fb58180e6cebfcc2a1bacd9b1240a52aa4c54aed522ae4ba9cb634ccdafd3eb14fbc117b3b46449570267a24ccf2286cf22774308ecf222c1e940bc34481adcc77370d5b0554892a3d74cbbfa64b7fa6bef9117bb38d63d7799d043073e17867e0448466b61bda2c228e0b37d523d3399aa44f627413ec266da4e6b24eec2000ca5cb4b78c40ac7221dd5112274070aa5ce43d8dceb069e73259d7877eeec207695094982986686ec7b6422dfe33b49e2772504ed1'\n",
        "\n",
        "KAGGLE_INPUT_PATH='/kaggle/input'\n",
        "KAGGLE_WORKING_PATH='/kaggle/working'\n",
        "KAGGLE_SYMLINK='kaggle'\n",
        "\n",
        "!umount /kaggle/input/ 2> /dev/null\n",
        "shutil.rmtree('/kaggle/input', ignore_errors=True)\n",
        "os.makedirs(KAGGLE_INPUT_PATH, 0o777, exist_ok=True)\n",
        "os.makedirs(KAGGLE_WORKING_PATH, 0o777, exist_ok=True)\n",
        "\n",
        "try:\n",
        "  os.symlink(KAGGLE_INPUT_PATH, os.path.join(\"..\", 'input'), target_is_directory=True)\n",
        "except FileExistsError:\n",
        "  pass\n",
        "try:\n",
        "  os.symlink(KAGGLE_WORKING_PATH, os.path.join(\"..\", 'working'), target_is_directory=True)\n",
        "except FileExistsError:\n",
        "  pass\n",
        "\n",
        "for data_source_mapping in DATA_SOURCE_MAPPING.split(','):\n",
        "    directory, download_url_encoded = data_source_mapping.split(':')\n",
        "    download_url = unquote(download_url_encoded)\n",
        "    filename = urlparse(download_url).path\n",
        "    destination_path = os.path.join(KAGGLE_INPUT_PATH, directory)\n",
        "    try:\n",
        "        with urlopen(download_url) as fileres, NamedTemporaryFile() as tfile:\n",
        "            total_length = fileres.headers['content-length']\n",
        "            print(f'Downloading {directory}, {total_length} bytes compressed')\n",
        "            dl = 0\n",
        "            data = fileres.read(CHUNK_SIZE)\n",
        "            while len(data) > 0:\n",
        "                dl += len(data)\n",
        "                tfile.write(data)\n",
        "                done = int(50 * dl / int(total_length))\n",
        "                sys.stdout.write(f\"\\r[{'=' * done}{' ' * (50-done)}] {dl} bytes downloaded\")\n",
        "                sys.stdout.flush()\n",
        "                data = fileres.read(CHUNK_SIZE)\n",
        "            if filename.endswith('.zip'):\n",
        "              with ZipFile(tfile) as zfile:\n",
        "                zfile.extractall(destination_path)\n",
        "            else:\n",
        "              with tarfile.open(tfile.name) as tarfile:\n",
        "                tarfile.extractall(destination_path)\n",
        "            print(f'\\nDownloaded and uncompressed: {directory}')\n",
        "    except HTTPError as e:\n",
        "        print(f'Failed to load (likely expired) {download_url} to path {destination_path}')\n",
        "        continue\n",
        "    except OSError as e:\n",
        "        print(f'Failed to load {download_url} to path {destination_path}')\n",
        "        continue\n",
        "\n",
        "print('Data source import complete.')\n"
      ],
      "metadata": {
        "colab": {
          "base_uri": "https://localhost:8080/"
        },
        "id": "NtCCBtk2cAhG",
        "outputId": "e29d063c-2827-4a42-aeb9-119779a5ec7c"
      },
      "cell_type": "code",
      "outputs": [
        {
          "output_type": "stream",
          "name": "stdout",
          "text": [
            "Downloading ai-defence-summer-school-2024, 141977907 bytes compressed\n",
            "[==================================================] 141977907 bytes downloaded\n",
            "Downloaded and uncompressed: ai-defence-summer-school-2024\n",
            "Data source import complete.\n"
          ]
        }
      ],
      "execution_count": null
    },
    {
      "cell_type": "code",
      "source": [
        "# This Python 3 environment comes with many helpful analytics libraries installed\n",
        "# It is defined by the kaggle/python Docker image: https://github.com/kaggle/docker-python\n",
        "# For example, here's several helpful packages to load\n",
        "\n",
        "import numpy as np # linear algebra\n",
        "import pandas as pd # data processing, CSV file I/O (e.g. pd.read_csv)\n",
        "\n",
        "# Input data files are available in the read-only \"../input/\" directory\n",
        "# For example, running this (by clicking run or pressing Shift+Enter) will list all files under the input directory\n",
        "\n",
        "import os\n",
        "for dirname, _, filenames in os.walk('/kaggle/input'):\n",
        "    for filename in filenames:\n",
        "        print(os.path.join(dirname, filename))\n",
        "\n",
        "# You can write up to 20GB to the current directory (/kaggle/working/) that gets preserved as output when you create a version using \"Save & Run All\"\n",
        "# You can also write temporary files to /kaggle/temp/, but they won't be saved outside of the current session"
      ],
      "metadata": {
        "_uuid": "8f2839f25d086af736a60e9eeb907d3b93b6e0e5",
        "_cell_guid": "b1076dfc-b9ad-4769-8c92-a6c4dae69d19",
        "execution": {
          "iopub.status.busy": "2024-06-28T09:00:18.409142Z",
          "iopub.execute_input": "2024-06-28T09:00:18.409542Z",
          "iopub.status.idle": "2024-06-28T09:00:18.822043Z",
          "shell.execute_reply.started": "2024-06-28T09:00:18.409507Z",
          "shell.execute_reply": "2024-06-28T09:00:18.820704Z"
        },
        "trusted": true,
        "colab": {
          "base_uri": "https://localhost:8080/"
        },
        "id": "Ms2B9b9TcAhc",
        "outputId": "0c3be449-c8ca-47ad-9c08-4759372f1c61"
      },
      "execution_count": null,
      "outputs": [
        {
          "output_type": "stream",
          "name": "stdout",
          "text": [
            "/kaggle/input/ai-defence-summer-school-2024/test.csv\n",
            "/kaggle/input/ai-defence-summer-school-2024/sample_submission.csv\n",
            "/kaggle/input/ai-defence-summer-school-2024/train.csv\n",
            "/kaggle/input/ai-defence-summer-school-2024/messages/messages.jsonl\n"
          ]
        }
      ]
    },
    {
      "cell_type": "markdown",
      "source": [
        "## Read input data (merging metadata with messages + checking NaN)"
      ],
      "metadata": {
        "id": "UM7medCJcAhi"
      }
    },
    {
      "cell_type": "code",
      "source": [
        "# train dataframe contains source information and source category\n",
        "train_df = pd.read_csv('/kaggle/input/ai-defence-summer-school-2024/train.csv')\n",
        "# test dataframe contains source information only, and you need to recreate source category\n",
        "test_df = pd.read_csv('/kaggle/input/ai-defence-summer-school-2024/test.csv')\n",
        "# messages dataframe contains all the available message for all sources across train and test dataframes\n",
        "messages_df = pd.read_json('/kaggle/input/ai-defence-summer-school-2024/messages/messages.jsonl', lines=True)"
      ],
      "metadata": {
        "execution": {
          "iopub.status.busy": "2024-06-28T09:00:21.258544Z",
          "iopub.execute_input": "2024-06-28T09:00:21.259093Z",
          "iopub.status.idle": "2024-06-28T09:00:37.151826Z",
          "shell.execute_reply.started": "2024-06-28T09:00:21.259059Z",
          "shell.execute_reply": "2024-06-28T09:00:37.150734Z"
        },
        "trusted": true,
        "id": "7juzChNQcAho"
      },
      "execution_count": null,
      "outputs": []
    },
    {
      "cell_type": "code",
      "source": [
        "messages_text_only = messages_df[['source_id', 'text']]"
      ],
      "metadata": {
        "id": "or-qR2W66iPr"
      },
      "execution_count": null,
      "outputs": []
    },
    {
      "cell_type": "code",
      "source": [
        "train_df_text = pd.merge(messages_text_only, train_df, on='source_id')\n",
        "test_df_text = pd.merge(messages_text_only, test_df, on='source_id')\n",
        "print(train_df_text.shape, test_df_text.shape)"
      ],
      "metadata": {
        "execution": {
          "iopub.status.busy": "2024-06-28T09:22:01.219482Z",
          "iopub.execute_input": "2024-06-28T09:22:01.219957Z",
          "iopub.status.idle": "2024-06-28T09:22:01.236348Z",
          "shell.execute_reply.started": "2024-06-28T09:22:01.219916Z",
          "shell.execute_reply": "2024-06-28T09:22:01.23521Z"
        },
        "trusted": true,
        "colab": {
          "base_uri": "https://localhost:8080/"
        },
        "id": "7PSuDTdJcAhr",
        "outputId": "cf9f266f-6107-4b3e-c7d9-48d1418e0319"
      },
      "execution_count": null,
      "outputs": [
        {
          "output_type": "stream",
          "name": "stdout",
          "text": [
            "(263353, 4) (109194, 3)\n"
          ]
        }
      ]
    },
    {
      "cell_type": "code",
      "source": [
        "# drop duplicates\n",
        "train_df_text = train_df_text.drop_duplicates(subset=['text'])\n",
        "# test_df_text = test_df_text.drop_duplicates(subset=['text'])\n",
        "print(train_df_text.shape, test_df_text.shape)"
      ],
      "metadata": {
        "colab": {
          "base_uri": "https://localhost:8080/"
        },
        "id": "oloAOM1dl_6h",
        "outputId": "cedba3f4-1536-400b-f9de-85496cfeec77"
      },
      "execution_count": null,
      "outputs": [
        {
          "output_type": "stream",
          "name": "stdout",
          "text": [
            "(242391, 4) (109194, 3)\n"
          ]
        }
      ]
    },
    {
      "cell_type": "code",
      "source": [
        "print(\"NaN among text and category in train: \", (train_df_text[\"text\"].isna() & train_df_text[\"source_category\"].isna()).sum())\n",
        "print(\"NaN among text in test: \", (test_df_text[\"text\"].isna().sum()))"
      ],
      "metadata": {
        "colab": {
          "base_uri": "https://localhost:8080/"
        },
        "id": "DRp2VmUJhueF",
        "outputId": "278d0a90-f45f-4e3c-c5dc-5a3c5ac6f0fa"
      },
      "execution_count": null,
      "outputs": [
        {
          "output_type": "stream",
          "name": "stdout",
          "text": [
            "NaN among text and category in train:  0\n",
            "NaN among text in test:  0\n"
          ]
        }
      ]
    },
    {
      "cell_type": "markdown",
      "source": [
        "# LogReg / Gradient Boosting + TfIdf"
      ],
      "metadata": {
        "id": "zY2_isN0rv_F"
      }
    },
    {
      "cell_type": "code",
      "source": [
        "import nltGradientBoostingClassifierk\n",
        "from nltk.corpus import stopwords\n",
        "import string\n",
        "import re\n",
        "import pandas as pd\n",
        "from sklearn.feature_extraction.text import TfidfVectorizer\n",
        "from sklearn.linear_model import LogisticRegression\n",
        "from sklearn.ensemble import\n",
        "from sklearn.preprocessing import LabelEncoder\n",
        "from sklearn.model_selection import train_test_split\n",
        "from sklearn.metrics import accuracy_score\n",
        "\n",
        "nltk.download('stopwords')\n",
        "stop_words = list(set(stopwords.words('russian')))"
      ],
      "metadata": {
        "id": "0FutMQrWJK-e",
        "colab": {
          "base_uri": "https://localhost:8080/"
        },
        "outputId": "309b4d89-5423-4eee-dfca-e38265ec44a6"
      },
      "execution_count": null,
      "outputs": [
        {
          "output_type": "stream",
          "name": "stderr",
          "text": [
            "[nltk_data] Downloading package stopwords to /root/nltk_data...\n",
            "[nltk_data]   Package stopwords is already up-to-date!\n"
          ]
        }
      ]
    },
    {
      "cell_type": "code",
      "source": [
        "def preprocess_text(text):\n",
        "    # Remove links\n",
        "    url_pattern = re.compile(r'https?://\\S+|www\\.\\S+|t\\.me/\\S+')\n",
        "    text = url_pattern.sub('', text)\n",
        "\n",
        "    # Lowercasing\n",
        "    text = text.lower()\n",
        "\n",
        "    # Removing punctuation\n",
        "    text = \"\".join([char for char in text if char not in string.punctuation + '»«—'])\n",
        "\n",
        "    # Removing stop words\n",
        "    words = text.split()\n",
        "    words = [word for word in words if word not in stop_words]\n",
        "\n",
        "    return ' '.join(words)\n",
        "\n",
        "train_df_text = train_df_text.groupby('source_id').agg({\n",
        "    'text': ' '.join,\n",
        "    'source_category': 'first'\n",
        "}).reset_index()\n",
        "\n",
        "test_df_text = test_df_text.groupby('source_id').agg({\n",
        "    'text': ' '.join\n",
        "}).reset_index()\n",
        "\n",
        "train_df_text['text_prep'] = train_df_text['text'].apply(preprocess_text)\n",
        "test_df_text['text_prep'] = test_df_text['text'].apply(preprocess_text)"
      ],
      "metadata": {
        "id": "N1U4IqAuLv0A"
      },
      "execution_count": null,
      "outputs": []
    },
    {
      "cell_type": "code",
      "source": [
        "tfidf_vectorizer = TfidfVectorizer(max_features=10000)\n",
        "X_train = tfidf_vectorizer.fit_transform(train_df_text['text_prep'])\n",
        "X_test = tfidf_vectorizer.transform(test_df_text['text_prep'])\n",
        "\n",
        "label_encoder = LabelEncoder()\n",
        "y_train = label_encoder.fit_transform(train_df_text['source_category'])\n",
        "\n",
        "classifier = LogisticRegression(max_iter=1000)\n",
        "# classifier = GradientBoostingClassifier()\n",
        "classifier.fit(X_train, y_train)\n",
        "\n",
        "y_pred = classifier.predict(X_test)\n",
        "\n",
        "sample_submission = test_df_text[['source_id']].copy()\n",
        "sample_submission['source_category'] = label_encoder.inverse_transform(y_pred)"
      ],
      "metadata": {
        "id": "tJPuXrW-iZ--"
      },
      "execution_count": null,
      "outputs": []
    },
    {
      "cell_type": "code",
      "source": [
        "sample_submission.set_index('source_id', inplace=True)"
      ],
      "metadata": {
        "id": "Re_rqrO2z4tz"
      },
      "execution_count": null,
      "outputs": []
    },
    {
      "cell_type": "code",
      "source": [
        "sample_submission['source_category'].value_counts()"
      ],
      "metadata": {
        "id": "gmyXM7eC-dv9",
        "colab": {
          "base_uri": "https://localhost:8080/"
        },
        "outputId": "6017d3a6-f122-430c-a008-e645b4d58a37"
      },
      "execution_count": null,
      "outputs": [
        {
          "output_type": "execute_result",
          "data": {
            "text/plain": [
              "source_category\n",
              "AGGRESSIVE_INFORMATION    984\n",
              "RESTRAINED_INFORMATION    366\n",
              "SAFE_CONTENT               34\n",
              "UNRECOGNIZED_REPUBLICS      2\n",
              "Name: count, dtype: int64"
            ]
          },
          "metadata": {},
          "execution_count": 65
        }
      ]
    },
    {
      "cell_type": "code",
      "source": [
        "sample_submission"
      ],
      "metadata": {
        "id": "Mh3wnOCI7bjt",
        "outputId": "60539b58-962b-49e0-9e07-cfd477d2ec82",
        "colab": {
          "base_uri": "https://localhost:8080/",
          "height": 455
        }
      },
      "execution_count": null,
      "outputs": [
        {
          "output_type": "execute_result",
          "data": {
            "text/plain": [
              "                  source_category\n",
              "source_id                        \n",
              "6          AGGRESSIVE_INFORMATION\n",
              "16         AGGRESSIVE_INFORMATION\n",
              "54         AGGRESSIVE_INFORMATION\n",
              "117        AGGRESSIVE_INFORMATION\n",
              "128        AGGRESSIVE_INFORMATION\n",
              "...                           ...\n",
              "145007518  AGGRESSIVE_INFORMATION\n",
              "145007576  AGGRESSIVE_INFORMATION\n",
              "145007721  RESTRAINED_INFORMATION\n",
              "145007769  AGGRESSIVE_INFORMATION\n",
              "145007818  AGGRESSIVE_INFORMATION\n",
              "\n",
              "[1386 rows x 1 columns]"
            ],
            "text/html": [
              "\n",
              "  <div id=\"df-e71ce1bd-2f3e-4438-9fa2-06cadb908452\" class=\"colab-df-container\">\n",
              "    <div>\n",
              "<style scoped>\n",
              "    .dataframe tbody tr th:only-of-type {\n",
              "        vertical-align: middle;\n",
              "    }\n",
              "\n",
              "    .dataframe tbody tr th {\n",
              "        vertical-align: top;\n",
              "    }\n",
              "\n",
              "    .dataframe thead th {\n",
              "        text-align: right;\n",
              "    }\n",
              "</style>\n",
              "<table border=\"1\" class=\"dataframe\">\n",
              "  <thead>\n",
              "    <tr style=\"text-align: right;\">\n",
              "      <th></th>\n",
              "      <th>source_category</th>\n",
              "    </tr>\n",
              "    <tr>\n",
              "      <th>source_id</th>\n",
              "      <th></th>\n",
              "    </tr>\n",
              "  </thead>\n",
              "  <tbody>\n",
              "    <tr>\n",
              "      <th>6</th>\n",
              "      <td>AGGRESSIVE_INFORMATION</td>\n",
              "    </tr>\n",
              "    <tr>\n",
              "      <th>16</th>\n",
              "      <td>AGGRESSIVE_INFORMATION</td>\n",
              "    </tr>\n",
              "    <tr>\n",
              "      <th>54</th>\n",
              "      <td>AGGRESSIVE_INFORMATION</td>\n",
              "    </tr>\n",
              "    <tr>\n",
              "      <th>117</th>\n",
              "      <td>AGGRESSIVE_INFORMATION</td>\n",
              "    </tr>\n",
              "    <tr>\n",
              "      <th>128</th>\n",
              "      <td>AGGRESSIVE_INFORMATION</td>\n",
              "    </tr>\n",
              "    <tr>\n",
              "      <th>...</th>\n",
              "      <td>...</td>\n",
              "    </tr>\n",
              "    <tr>\n",
              "      <th>145007518</th>\n",
              "      <td>AGGRESSIVE_INFORMATION</td>\n",
              "    </tr>\n",
              "    <tr>\n",
              "      <th>145007576</th>\n",
              "      <td>AGGRESSIVE_INFORMATION</td>\n",
              "    </tr>\n",
              "    <tr>\n",
              "      <th>145007721</th>\n",
              "      <td>RESTRAINED_INFORMATION</td>\n",
              "    </tr>\n",
              "    <tr>\n",
              "      <th>145007769</th>\n",
              "      <td>AGGRESSIVE_INFORMATION</td>\n",
              "    </tr>\n",
              "    <tr>\n",
              "      <th>145007818</th>\n",
              "      <td>AGGRESSIVE_INFORMATION</td>\n",
              "    </tr>\n",
              "  </tbody>\n",
              "</table>\n",
              "<p>1386 rows × 1 columns</p>\n",
              "</div>\n",
              "    <div class=\"colab-df-buttons\">\n",
              "\n",
              "  <div class=\"colab-df-container\">\n",
              "    <button class=\"colab-df-convert\" onclick=\"convertToInteractive('df-e71ce1bd-2f3e-4438-9fa2-06cadb908452')\"\n",
              "            title=\"Convert this dataframe to an interactive table.\"\n",
              "            style=\"display:none;\">\n",
              "\n",
              "  <svg xmlns=\"http://www.w3.org/2000/svg\" height=\"24px\" viewBox=\"0 -960 960 960\">\n",
              "    <path d=\"M120-120v-720h720v720H120Zm60-500h600v-160H180v160Zm220 220h160v-160H400v160Zm0 220h160v-160H400v160ZM180-400h160v-160H180v160Zm440 0h160v-160H620v160ZM180-180h160v-160H180v160Zm440 0h160v-160H620v160Z\"/>\n",
              "  </svg>\n",
              "    </button>\n",
              "\n",
              "  <style>\n",
              "    .colab-df-container {\n",
              "      display:flex;\n",
              "      gap: 12px;\n",
              "    }\n",
              "\n",
              "    .colab-df-convert {\n",
              "      background-color: #E8F0FE;\n",
              "      border: none;\n",
              "      border-radius: 50%;\n",
              "      cursor: pointer;\n",
              "      display: none;\n",
              "      fill: #1967D2;\n",
              "      height: 32px;\n",
              "      padding: 0 0 0 0;\n",
              "      width: 32px;\n",
              "    }\n",
              "\n",
              "    .colab-df-convert:hover {\n",
              "      background-color: #E2EBFA;\n",
              "      box-shadow: 0px 1px 2px rgba(60, 64, 67, 0.3), 0px 1px 3px 1px rgba(60, 64, 67, 0.15);\n",
              "      fill: #174EA6;\n",
              "    }\n",
              "\n",
              "    .colab-df-buttons div {\n",
              "      margin-bottom: 4px;\n",
              "    }\n",
              "\n",
              "    [theme=dark] .colab-df-convert {\n",
              "      background-color: #3B4455;\n",
              "      fill: #D2E3FC;\n",
              "    }\n",
              "\n",
              "    [theme=dark] .colab-df-convert:hover {\n",
              "      background-color: #434B5C;\n",
              "      box-shadow: 0px 1px 3px 1px rgba(0, 0, 0, 0.15);\n",
              "      filter: drop-shadow(0px 1px 2px rgba(0, 0, 0, 0.3));\n",
              "      fill: #FFFFFF;\n",
              "    }\n",
              "  </style>\n",
              "\n",
              "    <script>\n",
              "      const buttonEl =\n",
              "        document.querySelector('#df-e71ce1bd-2f3e-4438-9fa2-06cadb908452 button.colab-df-convert');\n",
              "      buttonEl.style.display =\n",
              "        google.colab.kernel.accessAllowed ? 'block' : 'none';\n",
              "\n",
              "      async function convertToInteractive(key) {\n",
              "        const element = document.querySelector('#df-e71ce1bd-2f3e-4438-9fa2-06cadb908452');\n",
              "        const dataTable =\n",
              "          await google.colab.kernel.invokeFunction('convertToInteractive',\n",
              "                                                    [key], {});\n",
              "        if (!dataTable) return;\n",
              "\n",
              "        const docLinkHtml = 'Like what you see? Visit the ' +\n",
              "          '<a target=\"_blank\" href=https://colab.research.google.com/notebooks/data_table.ipynb>data table notebook</a>'\n",
              "          + ' to learn more about interactive tables.';\n",
              "        element.innerHTML = '';\n",
              "        dataTable['output_type'] = 'display_data';\n",
              "        await google.colab.output.renderOutput(dataTable, element);\n",
              "        const docLink = document.createElement('div');\n",
              "        docLink.innerHTML = docLinkHtml;\n",
              "        element.appendChild(docLink);\n",
              "      }\n",
              "    </script>\n",
              "  </div>\n",
              "\n",
              "\n",
              "<div id=\"df-4811d6b1-9b1f-491e-b0cb-602e6062add2\">\n",
              "  <button class=\"colab-df-quickchart\" onclick=\"quickchart('df-4811d6b1-9b1f-491e-b0cb-602e6062add2')\"\n",
              "            title=\"Suggest charts\"\n",
              "            style=\"display:none;\">\n",
              "\n",
              "<svg xmlns=\"http://www.w3.org/2000/svg\" height=\"24px\"viewBox=\"0 0 24 24\"\n",
              "     width=\"24px\">\n",
              "    <g>\n",
              "        <path d=\"M19 3H5c-1.1 0-2 .9-2 2v14c0 1.1.9 2 2 2h14c1.1 0 2-.9 2-2V5c0-1.1-.9-2-2-2zM9 17H7v-7h2v7zm4 0h-2V7h2v10zm4 0h-2v-4h2v4z\"/>\n",
              "    </g>\n",
              "</svg>\n",
              "  </button>\n",
              "\n",
              "<style>\n",
              "  .colab-df-quickchart {\n",
              "      --bg-color: #E8F0FE;\n",
              "      --fill-color: #1967D2;\n",
              "      --hover-bg-color: #E2EBFA;\n",
              "      --hover-fill-color: #174EA6;\n",
              "      --disabled-fill-color: #AAA;\n",
              "      --disabled-bg-color: #DDD;\n",
              "  }\n",
              "\n",
              "  [theme=dark] .colab-df-quickchart {\n",
              "      --bg-color: #3B4455;\n",
              "      --fill-color: #D2E3FC;\n",
              "      --hover-bg-color: #434B5C;\n",
              "      --hover-fill-color: #FFFFFF;\n",
              "      --disabled-bg-color: #3B4455;\n",
              "      --disabled-fill-color: #666;\n",
              "  }\n",
              "\n",
              "  .colab-df-quickchart {\n",
              "    background-color: var(--bg-color);\n",
              "    border: none;\n",
              "    border-radius: 50%;\n",
              "    cursor: pointer;\n",
              "    display: none;\n",
              "    fill: var(--fill-color);\n",
              "    height: 32px;\n",
              "    padding: 0;\n",
              "    width: 32px;\n",
              "  }\n",
              "\n",
              "  .colab-df-quickchart:hover {\n",
              "    background-color: var(--hover-bg-color);\n",
              "    box-shadow: 0 1px 2px rgba(60, 64, 67, 0.3), 0 1px 3px 1px rgba(60, 64, 67, 0.15);\n",
              "    fill: var(--button-hover-fill-color);\n",
              "  }\n",
              "\n",
              "  .colab-df-quickchart-complete:disabled,\n",
              "  .colab-df-quickchart-complete:disabled:hover {\n",
              "    background-color: var(--disabled-bg-color);\n",
              "    fill: var(--disabled-fill-color);\n",
              "    box-shadow: none;\n",
              "  }\n",
              "\n",
              "  .colab-df-spinner {\n",
              "    border: 2px solid var(--fill-color);\n",
              "    border-color: transparent;\n",
              "    border-bottom-color: var(--fill-color);\n",
              "    animation:\n",
              "      spin 1s steps(1) infinite;\n",
              "  }\n",
              "\n",
              "  @keyframes spin {\n",
              "    0% {\n",
              "      border-color: transparent;\n",
              "      border-bottom-color: var(--fill-color);\n",
              "      border-left-color: var(--fill-color);\n",
              "    }\n",
              "    20% {\n",
              "      border-color: transparent;\n",
              "      border-left-color: var(--fill-color);\n",
              "      border-top-color: var(--fill-color);\n",
              "    }\n",
              "    30% {\n",
              "      border-color: transparent;\n",
              "      border-left-color: var(--fill-color);\n",
              "      border-top-color: var(--fill-color);\n",
              "      border-right-color: var(--fill-color);\n",
              "    }\n",
              "    40% {\n",
              "      border-color: transparent;\n",
              "      border-right-color: var(--fill-color);\n",
              "      border-top-color: var(--fill-color);\n",
              "    }\n",
              "    60% {\n",
              "      border-color: transparent;\n",
              "      border-right-color: var(--fill-color);\n",
              "    }\n",
              "    80% {\n",
              "      border-color: transparent;\n",
              "      border-right-color: var(--fill-color);\n",
              "      border-bottom-color: var(--fill-color);\n",
              "    }\n",
              "    90% {\n",
              "      border-color: transparent;\n",
              "      border-bottom-color: var(--fill-color);\n",
              "    }\n",
              "  }\n",
              "</style>\n",
              "\n",
              "  <script>\n",
              "    async function quickchart(key) {\n",
              "      const quickchartButtonEl =\n",
              "        document.querySelector('#' + key + ' button');\n",
              "      quickchartButtonEl.disabled = true;  // To prevent multiple clicks.\n",
              "      quickchartButtonEl.classList.add('colab-df-spinner');\n",
              "      try {\n",
              "        const charts = await google.colab.kernel.invokeFunction(\n",
              "            'suggestCharts', [key], {});\n",
              "      } catch (error) {\n",
              "        console.error('Error during call to suggestCharts:', error);\n",
              "      }\n",
              "      quickchartButtonEl.classList.remove('colab-df-spinner');\n",
              "      quickchartButtonEl.classList.add('colab-df-quickchart-complete');\n",
              "    }\n",
              "    (() => {\n",
              "      let quickchartButtonEl =\n",
              "        document.querySelector('#df-4811d6b1-9b1f-491e-b0cb-602e6062add2 button');\n",
              "      quickchartButtonEl.style.display =\n",
              "        google.colab.kernel.accessAllowed ? 'block' : 'none';\n",
              "    })();\n",
              "  </script>\n",
              "</div>\n",
              "    </div>\n",
              "  </div>\n"
            ],
            "application/vnd.google.colaboratory.intrinsic+json": {
              "type": "dataframe",
              "variable_name": "sample_submission",
              "summary": "{\n  \"name\": \"sample_submission\",\n  \"rows\": 1386,\n  \"fields\": [\n    {\n      \"column\": \"source_id\",\n      \"properties\": {\n        \"dtype\": \"number\",\n        \"std\": 57397969,\n        \"min\": 6,\n        \"max\": 145007818,\n        \"num_unique_values\": 1386,\n        \"samples\": [\n          4023791,\n          226111,\n          87297548\n        ],\n        \"semantic_type\": \"\",\n        \"description\": \"\"\n      }\n    },\n    {\n      \"column\": \"source_category\",\n      \"properties\": {\n        \"dtype\": \"category\",\n        \"num_unique_values\": 4,\n        \"samples\": [\n          \"RESTRAINED_INFORMATION\",\n          \"UNRECOGNIZED_REPUBLICS\",\n          \"AGGRESSIVE_INFORMATION\"\n        ],\n        \"semantic_type\": \"\",\n        \"description\": \"\"\n      }\n    }\n  ]\n}"
            }
          },
          "metadata": {},
          "execution_count": 66
        }
      ]
    },
    {
      "cell_type": "code",
      "source": [
        "sample_submission.to_csv('sample_submission_gradient_encoding.csv')"
      ],
      "metadata": {
        "id": "iffuEjTXtAEa"
      },
      "execution_count": null,
      "outputs": []
    },
    {
      "cell_type": "code",
      "source": [],
      "metadata": {
        "id": "juViKG8fRwre"
      },
      "execution_count": null,
      "outputs": []
    }
  ]
}